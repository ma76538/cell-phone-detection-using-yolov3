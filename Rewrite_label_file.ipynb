{
 "cells": [
  {
   "cell_type": "code",
   "execution_count": 11,
   "metadata": {},
   "outputs": [
    {
     "name": "stdout",
     "output_type": "stream",
     "text": [
      "Done\n"
     ]
    }
   ],
   "source": [
    "import os\n",
    "import pathlib\n",
    "\n",
    "# source_path = 'data/cell_phone/labels/train/'\n",
    "# destination_path = 'data/cell_phone/final_labels/train/' \n",
    "source_path = 'data/cell_phone/labels/valid/'\n",
    "destination_path = 'data/cell_phone/final_labels/valid/' \n",
    "\n",
    "\n",
    "file_list = os.listdir(source_path)\n",
    "for files in file_list:\n",
    "    with open(source_path + files,'r') as file:\n",
    "        content = file.readlines()\n",
    "        for value in content:\n",
    "            if value[0:2] == '67':\n",
    "                value = value.split(' ')\n",
    "                value[0] = '0'\n",
    "                data = ' '.join([str(x) for x in value])\n",
    "                if pathlib.Path(destination_path + files).exists():\n",
    "                    with open(destination_path + files,'a') as final_label:\n",
    "                        final_label.write(data)\n",
    "                    final_label.close()\n",
    "                else:\n",
    "                    with open(destination_path + files, 'w') as final_label:\n",
    "                        final_label.write(data)\n",
    "                    final_label.close()\n",
    "    file.close()\n",
    "\n",
    "print(\"Done\")"
   ]
  },
  {
   "cell_type": "code",
   "execution_count": null,
   "metadata": {},
   "outputs": [],
   "source": []
  }
 ],
 "metadata": {
  "kernelspec": {
   "display_name": "Python 3",
   "language": "python",
   "name": "python3"
  },
  "language_info": {
   "codemirror_mode": {
    "name": "ipython",
    "version": 3
   },
   "file_extension": ".py",
   "mimetype": "text/x-python",
   "name": "python",
   "nbconvert_exporter": "python",
   "pygments_lexer": "ipython3",
   "version": "3.8.5"
  }
 },
 "nbformat": 4,
 "nbformat_minor": 4
}
