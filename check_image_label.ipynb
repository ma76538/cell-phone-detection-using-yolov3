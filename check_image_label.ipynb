{
 "cells": [
  {
   "cell_type": "code",
<<<<<<< HEAD
   "execution_count": 4,
=======
   "execution_count": 2,
>>>>>>> 481946147523199d37d46bef32acf18cc086d91c
   "metadata": {},
   "outputs": [
    {
     "name": "stdout",
     "output_type": "stream",
     "text": [
<<<<<<< HEAD
      "214\n",
      "214\n",
=======
      "4752\n",
      "4751\n",
>>>>>>> 481946147523199d37d46bef32acf18cc086d91c
      "Done\n"
     ]
    }
   ],
   "source": [
    "\n",
    "import os\n",
<<<<<<< HEAD
    "# image_path = 'data/cell_phone/images/train/'\n",
    "# label_path = 'data/cell_phone/labels/train/'\n",
    "image_path = 'data/cell_phone/images/valid/'\n",
    "label_path = 'data/cell_phone/labels/valid/'\n",
    "\n",
=======
    "image_path = 'data/cell_phone/images/train/'\n",
    "label_path = 'data/cell_phone/labels/train/'\n",
>>>>>>> 481946147523199d37d46bef32acf18cc086d91c
    "image = os.listdir(image_path)\n",
    "label = os.listdir(label_path)\n",
    "image_list = []\n",
    "label_list = []\n",
    "\n",
    "for i in image:\n",
    "    image_list.append(os.path.splitext(i)[0])\n",
    "    \n",
    "for i in label:\n",
    "    label_list.append(os.path.splitext(i)[0])\n",
    "    \n",
    "same_element = set(image_list) & set(label_list)\n",
    "\n",
    "for file in image_list:\n",
    "    try:\n",
    "        if file not in label_list:\n",
    "            os.remove( image_path + file + '.jpg')\n",
    "    except:\n",
    "        pass\n",
    "    \n",
    "for file in label_list:\n",
    "    try:\n",
    "        if file not in image_list:\n",
    "            os.remove(label_path + file + '.txt')\n",
    "    except:\n",
    "        pass\n",
    "    \n",
    "print(len(image))\n",
    "print(len(label))\n",
    "print(\"Done\")"
   ]
  },
  {
   "cell_type": "code",
   "execution_count": null,
   "metadata": {},
   "outputs": [],
   "source": []
<<<<<<< HEAD
  },
  {
   "cell_type": "code",
   "execution_count": null,
   "metadata": {},
   "outputs": [],
   "source": []
=======
>>>>>>> 481946147523199d37d46bef32acf18cc086d91c
  }
 ],
 "metadata": {
  "kernelspec": {
   "display_name": "Python 3",
   "language": "python",
   "name": "python3"
  },
  "language_info": {
   "codemirror_mode": {
    "name": "ipython",
    "version": 3
   },
   "file_extension": ".py",
   "mimetype": "text/x-python",
   "name": "python",
   "nbconvert_exporter": "python",
   "pygments_lexer": "ipython3",
<<<<<<< HEAD
   "version": "3.8.5"
=======
   "version": "3.8.3"
>>>>>>> 481946147523199d37d46bef32acf18cc086d91c
  }
 },
 "nbformat": 4,
 "nbformat_minor": 4
}
